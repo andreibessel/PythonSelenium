{
 "cells": [
  {
   "cell_type": "code",
   "execution_count": 1,
   "metadata": {},
   "outputs": [],
   "source": [
    "import unittest \n",
    "from selenium import webdriver\n",
    "from selenium.webdriver.support.ui import WebDriverWait\n",
    "import os \n",
    "import sys\n",
    "from datetime import datetime\n",
    "os.chdir(\"../pageobjects\")\n",
    "from CurrencyConverterPage import CurrencyConverterPage"
   ]
  },
  {
   "cell_type": "code",
   "execution_count": 2,
   "metadata": {},
   "outputs": [
    {
     "name": "stdout",
     "output_type": "stream",
     "text": [
      "\n",
      "    This Class searches for\n",
      "    bugs in my Currency Converter Page \n",
      "    \n"
     ]
    },
    {
     "name": "stderr",
     "output_type": "stream",
     "text": [
      "."
     ]
    },
    {
     "name": "stdout",
     "output_type": "stream",
     "text": [
      "-------------------- Test End --------------------\n"
     ]
    },
    {
     "name": "stderr",
     "output_type": "stream",
     "text": [
      "\n",
      "----------------------------------------------------------------------\n",
      "Ran 1 test in 1.793s\n",
      "\n",
      "OK\n"
     ]
    }
   ],
   "source": [
    "class AboutTest(unittest.TestCase):\n",
    "    def setUp(self):\n",
    "        options = webdriver.ChromeOptions()\n",
    "        options.add_argument('--headless')\n",
    "        assert options.headless\n",
    "        \n",
    "        self.driver = webdriver.Chrome(options=options)\n",
    "        #self.driver.maximize_window()\n",
    "        self.driver.implicitly_wait(10)\n",
    "        self.driver.get(\"http://127.0.0.1:5000/currency\")\n",
    "        \n",
    "        \n",
    "    def test_mainpage(self):\n",
    "        CurrencyConverterPage(self.driver)\n",
    "        \n",
    "        CurrencyConverterPage.header_elements(self)\n",
    "        \n",
    "    def tearDown(self):\n",
    "        print(\"-\"*20 + \" Test End \" + \"-\"*20)\n",
    "        self.driver.quit()\n",
    "        \n",
    "        \n",
    "if __name__ == '__main__':\n",
    "    unittest.main(argv=['first-arg-is-ignored'], exit=False)\n",
    "    \n",
    "    \n",
    "    \n",
    "    \n",
    "\n",
    "    "
   ]
  },
  {
   "cell_type": "code",
   "execution_count": 3,
   "metadata": {},
   "outputs": [],
   "source": [
    "class CurrencyConverterPage():\n",
    "    \"\"\"\n",
    "    This Class searches for\n",
    "    bugs in my Currency Converter Page \n",
    "    \"\"\"\n",
    "    def __init__(self, driver):\n",
    "        self.driver = driver\n",
    "        print(CurrencyConverterPage.__doc__)\n",
    "    \n",
    "    def header_elements(self):\n",
    "        driver = self.driver\n",
    "        \n",
    "        header_elems = driver.find_element_by_xpath(r\"//li/a\")\n",
    "        \n",
    "        header_elemsconst = 6\n",
    "        self.assertEqual(len(header_elems), header_elemsconst,\n",
    "                         \"Some elements of header are missing\")\n",
    "        page_linktext = [\"Main Page\", \"About\",\n",
    "                         \"Currency Converter\", \"Contacts\"]\n",
    "        \n",
    "        \n",
    "        count = 0\n",
    "        for i in header_elems:\n",
    "            for y in page_linktext:\n",
    "                if i.text == y:\n",
    "                    count += 1\n",
    "        self.assertEqual(count, len(page_linktext),\n",
    "                         \"Some text is missing in header\")\n",
    "        \n",
    "        \n",
    "        print_time(self)\n",
    "        #Log(functionName_String, str(time)) \n",
    "    def print_time(self):\n",
    "        functionName_String = sys._getframe().f_code.co_name\n",
    "        time = datetime.now()\n",
    "        print(functionName_String + \" Test success -{}\".format(time))\n",
    "        "
   ]
  },
  {
   "cell_type": "code",
   "execution_count": 6,
   "metadata": {},
   "outputs": [],
   "source": [
    "from datetime import datetime \n",
    "\n",
    "class Log():\n",
    "    def __init__(self, func):\n",
    "        self.func = func\n",
    "        self.date = datetime.now()\n",
    "        with open(\"Log.txt\", \"a\") as file:\n",
    "            file.write(\"The Test {0} success At {1}\\n\".format(func.upper(), date))\n",
    "            \n",
    "class print_time():\n",
    "    def __init__(self, string)\n",
    "        if string != \"\":\n",
    "            time = datetime.now()\n",
    "            print(string + \" Test success -{}\".format(time))"
   ]
  },
  {
   "cell_type": "code",
   "execution_count": 7,
   "metadata": {},
   "outputs": [],
   "source": [
    "from io import StringIO"
   ]
  },
  {
   "cell_type": "code",
   "execution_count": 11,
   "metadata": {},
   "outputs": [],
   "source": [
    "buf = StringIO()"
   ]
  },
  {
   "cell_type": "code",
   "execution_count": null,
   "metadata": {},
   "outputs": [],
   "source": []
  }
 ],
 "metadata": {
  "kernelspec": {
   "display_name": "Python 3",
   "language": "python",
   "name": "python3"
  },
  "language_info": {
   "codemirror_mode": {
    "name": "ipython",
    "version": 3
   },
   "file_extension": ".py",
   "mimetype": "text/x-python",
   "name": "python",
   "nbconvert_exporter": "python",
   "pygments_lexer": "ipython3",
   "version": "3.7.6"
  }
 },
 "nbformat": 4,
 "nbformat_minor": 4
}
